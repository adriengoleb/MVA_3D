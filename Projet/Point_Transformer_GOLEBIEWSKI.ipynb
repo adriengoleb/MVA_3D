{
  "cells": [
    {
      "cell_type": "markdown",
      "metadata": {
        "id": "VVqfGNlZkD0P"
      },
      "source": [
        "## NPM3D - Point Transfomer 3D"
      ]
    },
    {
      "cell_type": "markdown",
      "metadata": {
        "id": "9k5MvyzrFySW"
      },
      "source": [
        "In the context of the project, I decided to focus on the implementation of one part of the paper: **the ModelNet40 classification task**.\n",
        "\n",
        "To help me implement this architecture and give me the necessary intuition, I was inspired by the content of this github : \n",
        "\n",
        "https://github.com/qq456cvb/Point-Transformers"
      ]
    },
    {
      "cell_type": "markdown",
      "metadata": {
        "id": "W0dHsp_xAVCp"
      },
      "source": [
        "# Imports and project setup"
      ]
    },
    {
      "cell_type": "code",
      "execution_count": null,
      "metadata": {
        "colab": {
          "base_uri": "https://localhost:8080/"
        },
        "id": "PeAMokOG-0n4",
        "outputId": "18ba475e-f9df-40ef-8dd5-4d671b6cd244",
        "vscode": {
          "languageId": "python"
        }
      },
      "outputs": [
        {
          "name": "stdout",
          "output_type": "stream",
          "text": [
            "Mounted at /content/drive\n"
          ]
        }
      ],
      "source": [
        "from google.colab import files\n",
        "from google.colab import drive\n",
        "drive.mount('/content/drive', force_remount=True)"
      ]
    },
    {
      "cell_type": "code",
      "execution_count": null,
      "metadata": {
        "id": "eqZK0uONoThv",
        "vscode": {
          "languageId": "python"
        }
      },
      "outputs": [],
      "source": [
        "import os\n",
        "import random\n",
        "import pickle\n",
        "\n",
        "import numpy as np\n",
        "import matplotlib.pyplot as plt\n",
        "\n",
        "import torch\n",
        "import torch.nn as nn\n",
        "import torch.nn.functional as F\n",
        "from torch.utils.data import Dataset\n",
        "from torchvision import transforms\n",
        "\n",
        "from tqdm import tqdm"
      ]
    },
    {
      "cell_type": "code",
      "execution_count": null,
      "metadata": {
        "colab": {
          "base_uri": "https://localhost:8080/"
        },
        "id": "LW5CXW-_mVB_",
        "outputId": "456f3124-a041-4958-ba5c-52614bf6bd89",
        "vscode": {
          "languageId": "python"
        }
      },
      "outputs": [
        {
          "data": {
            "text/plain": [
              "device(type='cuda', index=0)"
            ]
          },
          "execution_count": 3,
          "metadata": {},
          "output_type": "execute_result"
        }
      ],
      "source": [
        "device = torch.device(\"cuda:0\" if torch.cuda.is_available() else \"cpu\")\n",
        "device"
      ]
    },
    {
      "cell_type": "markdown",
      "metadata": {
        "id": "i_Ddr-FR8OB3"
      },
      "source": [
        "# Load Dataset"
      ]
    },
    {
      "cell_type": "markdown",
      "metadata": {
        "id": "WXAZVTTzcyML"
      },
      "source": [
        "## ModelNet from stanford edu"
      ]
    },
    {
      "cell_type": "code",
      "execution_count": null,
      "metadata": {
        "colab": {
          "base_uri": "https://localhost:8080/"
        },
        "id": "Xq1dnkNrbySr",
        "outputId": "ce3c9ca2-7550-4366-cc6b-62dc6bbc7a9a",
        "vscode": {
          "languageId": "python"
        }
      },
      "outputs": [
        {
          "name": "stdout",
          "output_type": "stream",
          "text": [
            "--2023-03-11 06:44:22--  https://shapenet.cs.stanford.edu/media/modelnet40_normal_resampled.zip\n",
            "Resolving shapenet.cs.stanford.edu (shapenet.cs.stanford.edu)... 171.67.77.19\n",
            "Connecting to shapenet.cs.stanford.edu (shapenet.cs.stanford.edu)|171.67.77.19|:443... connected.\n",
            "WARNING: cannot verify shapenet.cs.stanford.edu's certificate, issued by ‘CN=InCommon RSA Server CA,OU=InCommon,O=Internet2,L=Ann Arbor,ST=MI,C=US’:\n",
            "  Issued certificate has expired.\n",
            "HTTP request sent, awaiting response... 200 OK\n",
            "Length: 1705117335 (1.6G) [application/zip]\n",
            "Saving to: ‘data/modelnet40_normal_resampled.zip’\n",
            "\n",
            "modelnet40_normal_r 100%[===================>]   1.59G  40.2MB/s    in 42s     \n",
            "\n",
            "2023-03-11 06:45:05 (38.3 MB/s) - ‘data/modelnet40_normal_resampled.zip’ saved [1705117335/1705117335]\n",
            "\n"
          ]
        }
      ],
      "source": [
        "!wget --no-check-certificate -P data/ https://shapenet.cs.stanford.edu/media/modelnet40_normal_resampled.zip"
      ]
    },
    {
      "cell_type": "code",
      "execution_count": null,
      "metadata": {
        "id": "5KF1migCoPdi",
        "vscode": {
          "languageId": "python"
        }
      },
      "outputs": [],
      "source": [
        "!unzip -q -o -d data/ data/modelnet40_normal_resampled.zip"
      ]
    },
    {
      "cell_type": "markdown",
      "metadata": {
        "id": "f4b9OVbVoQJt"
      },
      "source": [
        "# DataLoader"
      ]
    },
    {
      "cell_type": "markdown",
      "metadata": {
        "id": "zELARveMIMKt"
      },
      "source": [
        "Definition of a data loader"
      ]
    },
    {
      "cell_type": "code",
      "execution_count": null,
      "metadata": {
        "id": "EkXS2_fAcGwu",
        "vscode": {
          "languageId": "python"
        }
      },
      "outputs": [],
      "source": [
        "def pc_normalize(pc):\n",
        "    centroid = np.mean(pc, axis=0)\n",
        "    pc = pc - centroid\n",
        "    m = np.max(np.sqrt(np.sum(pc**2, axis=1)))\n",
        "    pc = pc / m\n",
        "    return pc\n",
        "\n",
        "\n",
        "#divide the points into local groups and several set \n",
        "def farthest_point_sample(point, npoint):\n",
        "    \"\"\"\n",
        "    Input:\n",
        "        xyz: pointcloud data, [N, D]\n",
        "        npoint: number of samples\n",
        "    Return:\n",
        "        centroids: sampled pointcloud index, [npoint, D]\n",
        "    \"\"\"\n",
        "    N, D = point.shape\n",
        "    xyz = point[:,:3]\n",
        "    centroids = np.zeros((npoint,))\n",
        "    distance = np.ones((N,)) * 1e10\n",
        "    farthest = np.random.randint(0, N)\n",
        "    for i in range(npoint):\n",
        "        centroids[i] = farthest\n",
        "        centroid = xyz[farthest, :]\n",
        "        dist = np.sum((xyz - centroid) ** 2, -1)\n",
        "        mask = dist < distance\n",
        "        distance[mask] = dist[mask]\n",
        "        farthest = np.argmax(distance, -1)\n",
        "    point = point[centroids.astype(np.int32)]\n",
        "    return point\n",
        "\n",
        "\n",
        "#random and shuffle tasks\n",
        "class RandomRotation_z(object):\n",
        "    def __call__(self, pointcloud):\n",
        "        theta = random.random() * 2. * np.pi\n",
        "        rot_matrix = np.array([[ np.cos(theta), -np.sin(theta),      0],\n",
        "                               [ np.sin(theta),  np.cos(theta),      0],\n",
        "                               [0,                               0,      1]])\n",
        "        rot_pointcloud = rot_matrix.dot(pointcloud.T).T\n",
        "        return rot_pointcloud\n",
        "\n",
        "class RandomNoise(object):\n",
        "    def __call__(self, pointcloud):\n",
        "        noise = np.random.normal(0, 0.02, (pointcloud.shape))\n",
        "        noisy_pointcloud = pointcloud + noise\n",
        "        return noisy_pointcloud\n",
        "\n",
        "class ShufflePoints(object):\n",
        "    def __call__(self, pointcloud):\n",
        "        np.random.shuffle(pointcloud)\n",
        "        return pointcloud\n",
        "\n",
        "def default_transforms():\n",
        "    return transforms.Compose([RandomRotation_z(), RandomNoise()])\n",
        "\n",
        "\n",
        "class ModelNetDataLoader(Dataset):\n",
        "    def __init__(self, root, num_point=1024, transforms=default_transforms(), use_uniform_sample=True, use_normals=True, \n",
        "                 num_category=40, split='train', process_data=False):\n",
        "        self.root = root\n",
        "        self.npoints = num_point\n",
        "        self.process_data = process_data\n",
        "        self.uniform = use_uniform_sample\n",
        "        self.use_normals = use_normals\n",
        "        self.num_category = num_category\n",
        "        self.transforms = transforms\n",
        "\n",
        "        if self.num_category == 10:\n",
        "            self.catfile = os.path.join(self.root, 'modelnet10_shape_names.txt')\n",
        "        else:\n",
        "            self.catfile = os.path.join(self.root, 'modelnet40_shape_names.txt')\n",
        "\n",
        "        self.cat = [line.rstrip() for line in open(self.catfile)]\n",
        "        self.classes = dict(zip(self.cat, range(len(self.cat))))\n",
        "\n",
        "        shape_ids = {}\n",
        "        if self.num_category == 10:\n",
        "            shape_ids['train'] = [line.rstrip() for line in open(os.path.join(self.root, 'modelnet10_train.txt'))]\n",
        "            shape_ids['test'] = [line.rstrip() for line in open(os.path.join(self.root, 'modelnet10_test.txt'))]\n",
        "        else:\n",
        "            shape_ids['train'] = [line.rstrip() for line in open(os.path.join(self.root, 'modelnet40_train.txt'))]\n",
        "            shape_ids['test'] = [line.rstrip() for line in open(os.path.join(self.root, 'modelnet40_test.txt'))]\n",
        "\n",
        "        assert (split == 'train' or split == 'test')\n",
        "        shape_names = ['_'.join(x.split('_')[0:-1]) for x in shape_ids[split]]\n",
        "        self.datapath = [(shape_names[i], os.path.join(self.root, shape_names[i], shape_ids[split][i]) + '.txt') for i\n",
        "                         in range(len(shape_ids[split]))]\n",
        "        print('The size of %s data is %d' % (split, len(self.datapath)))\n",
        "\n",
        "        if self.uniform:\n",
        "            self.save_path = os.path.join(root, 'modelnet%d_%s_%dpts_fps.dat' % (self.num_category, split, self.npoints))\n",
        "        else:\n",
        "            self.save_path = os.path.join(root, 'modelnet%d_%s_%dpts.dat' % (self.num_category, split, self.npoints))\n",
        "\n",
        "        if self.process_data:\n",
        "            if not os.path.exists(self.save_path):\n",
        "                print('Processing data %s (only running in the first time)...' % self.save_path)\n",
        "                self.list_of_points = [None] * len(self.datapath)\n",
        "                self.list_of_labels = [None] * len(self.datapath)\n",
        "\n",
        "                for index in tqdm(range(len(self.datapath)), total=len(self.datapath), position=0, leave=True):\n",
        "                    fn = self.datapath[index]\n",
        "                    cls = self.classes[self.datapath[index][0]]\n",
        "                    cls = np.array([cls]).astype(np.int32)\n",
        "                    point_set = np.loadtxt(fn[1], delimiter=',').astype(np.float32)\n",
        "\n",
        "                    if self.uniform:\n",
        "                        point_set = farthest_point_sample(point_set, self.npoints)\n",
        "                    else:\n",
        "                        point_set = point_set[0:self.npoints, :]\n",
        "\n",
        "                    self.list_of_points[index] = point_set\n",
        "                    self.list_of_labels[index] = cls\n",
        "\n",
        "                with open(self.save_path, 'wb') as f:\n",
        "                    pickle.dump([self.list_of_points, self.list_of_labels], f)\n",
        "            else:\n",
        "                print('Load processed data from %s...' % self.save_path)\n",
        "                with open(self.save_path, 'rb') as f:\n",
        "                    self.list_of_points, self.list_of_labels = pickle.load(f)\n",
        "\n",
        "    def __len__(self):\n",
        "        return len(self.datapath)\n",
        "\n",
        "    def _get_item(self, index):\n",
        "        if self.process_data:\n",
        "            point_set, label = self.list_of_points[index], self.list_of_labels[index]\n",
        "            point_set[:, 0:3] = pc_normalize(point_set[:, 0:3])\n",
        "        else:\n",
        "            fn = self.datapath[index]\n",
        "            cls = self.classes[self.datapath[index][0]]\n",
        "            label = np.array([cls]).astype(np.int32)\n",
        "            point_set = np.loadtxt(fn[1], delimiter=',').astype(np.float32)\n",
        "\n",
        "            if self.uniform:\n",
        "                point_set = farthest_point_sample(point_set, self.npoints)\n",
        "            else:\n",
        "                point_set = point_set[0:self.npoints, :]\n",
        "\n",
        "        if not self.use_normals:\n",
        "            point_set = point_set[:, 0:3]\n",
        "        \n",
        "        if self.transforms is not None:\n",
        "            point_set[:, 0:3] = self.transforms(point_set[:, 0:3])\n",
        "\n",
        "        return point_set, label[0]\n",
        "\n",
        "    def __getitem__(self, index):\n",
        "        return self._get_item(index)"
      ]
    },
    {
      "cell_type": "code",
      "execution_count": null,
      "metadata": {
        "colab": {
          "base_uri": "https://localhost:8080/"
        },
        "id": "BF2YCf_dpzuV",
        "outputId": "bdc3aebc-5172-4eab-8d98-e4ed1a8dcd6c",
        "vscode": {
          "languageId": "python"
        }
      },
      "outputs": [
        {
          "name": "stdout",
          "output_type": "stream",
          "text": [
            "The size of test data is 2468\n",
            "Processing data data/modelnet40_normal_resampled/modelnet40_test_1024pts_fps.dat (only running in the first time)...\n"
          ]
        },
        {
          "name": "stderr",
          "output_type": "stream",
          "text": [
            "100%|██████████| 2468/2468 [19:50<00:00,  2.07it/s]\n"
          ]
        },
        {
          "name": "stdout",
          "output_type": "stream",
          "text": [
            "torch.Size([2468, 1024, 6])\n",
            "torch.Size([2468])\n"
          ]
        }
      ],
      "source": [
        "data = ModelNetDataLoader('data/modelnet40_normal_resampled/', \n",
        "                          split='test', \n",
        "                          process_data=True)\n",
        "DataLoader = torch.utils.data.DataLoader(data, batch_size=4096, shuffle=True)\n",
        "for point, label in DataLoader:\n",
        "    print(point.shape)\n",
        "    print(label.shape)"
      ]
    },
    {
      "cell_type": "markdown",
      "metadata": {
        "id": "0Rd5lUa9LMSC"
      },
      "source": [
        "# Point Transformer"
      ]
    },
    {
      "cell_type": "markdown",
      "metadata": {
        "id": "C38M5jX1dA7R"
      },
      "source": [
        "## Point Transformer Block"
      ]
    },
    {
      "cell_type": "code",
      "execution_count": null,
      "metadata": {
        "id": "ZsWLtDuVwGF9",
        "vscode": {
          "languageId": "python"
        }
      },
      "outputs": [],
      "source": [
        "def square_distance(src, dst): \n",
        "    \"\"\"\n",
        "    Input:\n",
        "        src: source points, [B, N, C]\n",
        "        dst: target points, [B, M, C]\n",
        "    Output:\n",
        "        dist: per-point square distance, [B, N, M]\n",
        "    \"\"\"\n",
        "    return torch.sum((src[:, :, None] - dst[:, None]) ** 2, dim=-1)\n",
        "\n",
        "def index_points(points, idx):\n",
        "    \"\"\"\n",
        "    Input:\n",
        "        points: input points data, [B, N, C]\n",
        "        idx: sample index data, [B, S, K]\n",
        "    Output:\n",
        "        new_points:, indexed points data, [B, S, K, C]\n",
        "    \"\"\"\n",
        "    raw_size = idx.size()\n",
        "    idx = idx.reshape(raw_size[0], -1)\n",
        "    res = torch.gather(points, 1, idx[..., None].expand(-1, -1, points.size(-1)))\n",
        "    return res.reshape(*raw_size, -1)\n",
        "\n",
        "\n",
        "#architecture transformer\n",
        "class BlockPointTransformer(nn.Module):\n",
        "    def __init__(self, d_points, d_model, k) -> None:\n",
        "        super().__init__()\n",
        "        self.fc1 = nn.Linear(d_points, d_model)\n",
        "        self.fc2 = nn.Linear(d_model, d_points)\n",
        "        self.fc_delta = nn.Sequential(\n",
        "            nn.Linear(3, d_model),\n",
        "            nn.ReLU(),\n",
        "            nn.Linear(d_model, d_model)\n",
        "        )\n",
        "        self.fc_gamma = nn.Sequential(\n",
        "            nn.Linear(d_model, d_model),\n",
        "            nn.ReLU(),\n",
        "            nn.Linear(d_model, d_model)\n",
        "        )\n",
        "        self.phi = nn.Linear(d_model, d_model, bias=False) # queries\n",
        "        self.psi = nn.Linear(d_model, d_model, bias=False) # keys\n",
        "        self.alpha = nn.Linear(d_model, d_model, bias=False) # values\n",
        "        self.k = k\n",
        "        \n",
        "    # xyz: b x n x 3, features: b x n x f (f=d_points)\n",
        "    def forward(self, xyz, features):\n",
        "        distance = square_distance(xyz, xyz)  # b x n x n\n",
        "        knn_idx = distance.argsort()[:, :, :self.k]  # b x n x k\n",
        "        knn_xyz = index_points(xyz, knn_idx) # b x n x k x 3\n",
        "        \n",
        "        pre = features # b x n x f\n",
        "        x = self.fc1(features) # b x n x d_model\n",
        "\n",
        "        q = self.phi(x) # b x n x d_model\n",
        "        k = index_points(self.psi(x), knn_idx) \n",
        "        v = index_points(self.alpha(x), knn_idx) \n",
        "\n",
        "        pos_enc = self.fc_delta(xyz[:, :, None] - knn_xyz)  \n",
        "        \n",
        "        attention = self.fc_gamma(q[:, :, None] - k + pos_enc) \n",
        "        attention = F.softmax(attention / np.sqrt(k.size(-1)), dim=-2)  \n",
        "        \n",
        "        res = torch.einsum('bmnf,bmnf->bmf', attention, v + pos_enc) \n",
        "        res = self.fc2(res) + pre # b x n x f\n",
        "        return res, attention"
      ]
    },
    {
      "cell_type": "markdown",
      "metadata": {
        "id": "1bs35uDcdHHq"
      },
      "source": [
        "## Transition down & Transition up"
      ]
    },
    {
      "cell_type": "code",
      "execution_count": null,
      "metadata": {
        "id": "Y-QngNyuQxVe",
        "vscode": {
          "languageId": "python"
        }
      },
      "outputs": [],
      "source": [
        "#greedy algorithm that samples from a point cloud data iteratively by batch\n",
        "def farthest_point_sample_batch(xyz, npoint):\n",
        "    \"\"\"\n",
        "        xyz: pointcloud data, [B, N, 3]\n",
        "        npoint: number of samples\n",
        "        centroids output : sampled pointcloud index, [B, npoint]\n",
        "    \"\"\"\n",
        "    device = xyz.device\n",
        "    B, N, C = xyz.shape\n",
        "    centroids = torch.zeros(B, npoint, dtype=torch.long).to(device)\n",
        "    distance = torch.ones(B, N).to(device) * 1e10\n",
        "    farthest = torch.randint(0, N, (B,), dtype=torch.long).to(device)\n",
        "    batch_indices = torch.arange(B, dtype=torch.long).to(device)\n",
        "    for i in range(npoint):\n",
        "        centroids[:, i] = farthest\n",
        "        centroid = xyz[batch_indices, farthest, :].view(B, 1, 3)  \n",
        "        dist = torch.sum((xyz - centroid) ** 2, -1)\n",
        "        distance = torch.min(distance, dist)\n",
        "        farthest = torch.max(distance, -1)[1]\n",
        "    return centroids.to(device)\n",
        "\n",
        "#reduce the cardinality of the point set\n",
        "class TransitionDown(nn.Module):\n",
        "    def __init__(self, npoint, k, input_dim, output_dim) -> None:\n",
        "        \"\"\"\n",
        "        npoint: target number of points after transition down\n",
        "        nneighbor: number of neighbors to max pool the new features from\n",
        "        input_dim: dimension of input features for each point\n",
        "        outut_dim: dimension of output features for each point\n",
        "        \"\"\"\n",
        "        super().__init__()\n",
        "        self.npoint = npoint\n",
        "        self.k = k\n",
        "      \n",
        "        self.mlp_convs = nn.ModuleList([\n",
        "            nn.Conv2d(input_dim, output_dim, 1),\n",
        "            nn.Conv2d(output_dim, output_dim, 1)\n",
        "        ])\n",
        "        self.mlp_bns = nn.ModuleList([\n",
        "            nn.BatchNorm2d(output_dim),\n",
        "            nn.BatchNorm2d(output_dim)\n",
        "        ])\n",
        "        \n",
        "    def forward(self, xyz, features):\n",
        "        \"\"\"\n",
        "            xyz: input points position data, [B, N, 3]\n",
        "            features: input points data, [B, N, D]\n",
        "            new_xyz: sampled points position data, [B, S, 3]\n",
        "            new_features: new points feature data, [B, S, D']\n",
        "        \"\"\"\n",
        "        fps_idx = farthest_point_sample_batch(xyz, self.npoint) # B x npoint\n",
        "        torch.cuda.empty_cache()\n",
        "        new_xyz = index_points(xyz, fps_idx) # B x npoint x 3\n",
        "        torch.cuda.empty_cache()\n",
        "        dists = square_distance(new_xyz, xyz)  \n",
        "        idx = dists.argsort()[:, :, :self.k]  \n",
        "        torch.cuda.empty_cache()\n",
        "        grouped_xyz = index_points(xyz, idx) # B x npoint x k x 3\n",
        "        torch.cuda.empty_cache()\n",
        "\n",
        "        B, N, D = features.shape\n",
        "\n",
        "        new_features = index_points(features, idx) # B x npoint x k x D\n",
        "        new_features = new_features.permute(0, 3, 2, 1) \n",
        "        for i, conv in enumerate(self.mlp_convs):\n",
        "             bn = self.mlp_bns[i]\n",
        "             new_features =  F.relu(bn(conv(new_features))) \n",
        "        new_features, _ = torch.max(new_features, 2) # B x D' x npoint\n",
        "        new_features = new_features.transpose(1,2) # B x npoint x D'\n",
        "\n",
        "        return new_xyz, new_features"
      ]
    },
    {
      "cell_type": "markdown",
      "metadata": {
        "id": "TjCyJEQbxqiB"
      },
      "source": [
        "# Config Experimentation"
      ]
    },
    {
      "cell_type": "markdown",
      "metadata": {
        "id": "k6iCJbwIpm3c"
      },
      "source": [
        "I tested differents :\n",
        "- optimizer (SGD, Adam, RMSProp)\n",
        "- epoch (100,200)\n",
        "- nblocks\n",
        "- transformer_dim (The dimension of the transformer D) : 32, 64, 128\n",
        "- K neighbor : 4, 8, 32"
      ]
    },
    {
      "cell_type": "code",
      "execution_count": null,
      "metadata": {
        "id": "CCE6T14Jxp9H",
        "vscode": {
          "languageId": "python"
        }
      },
      "outputs": [],
      "source": [
        "class Configuration:\n",
        "    def __init__(self, **kwargs):\n",
        "        self.__dict__.update(kwargs)\n",
        "\n",
        "#parameters configuration\n",
        "cfgn = Configuration(\n",
        "    model = Configuration(nneighbor = 16, nblocks = 4, transformer_dim = 32),\n",
        "    batch_size = 64,\n",
        "    epoch = 200, #100\n",
        "    learning_rate = 5e-3, #by default\n",
        "    gpu = 1,\n",
        "    num_point = 1024,\n",
        "    optimizer = 'Adam', # SGD (original optimizer from paper) + RMSProp\n",
        "    weight_decay = 1e-4,\n",
        "    normal = True\n",
        ")\n",
        "cfgn.num_class = 40\n",
        "cfgn.input_dim = 6 if cfgn.normal else 3"
      ]
    },
    {
      "cell_type": "code",
      "execution_count": null,
      "metadata": {
        "id": "_f9gUD3dsStH",
        "vscode": {
          "languageId": "python"
        }
      },
      "outputs": [],
      "source": [
        "#class Configuration:\n",
        "#    def __init__(self, **kwargs):\n",
        "#        self.__dict__.update(kwargs)\n",
        "#\n",
        "#parameters configuration\n",
        "#cfgn = Config(\n",
        "#    model = Configuration(nneighbor = 16, nblocks = 4, transformer_dim = 32),\n",
        "#    batch_size = 64,\n",
        "#    epoch = 200, #100\n",
        "#    learning_rate = 5e-3, #by default\n",
        "#    gpu = 1,\n",
        "#    num_point = 1024,\n",
        "#    optimizer = 'RMSprop', # SGD (original optimizer from paper)\n",
        "#    weight_decay = 1e-4,\n",
        "#    normal = True\n",
        "#)\n",
        "#cfgn.num_class = 40\n",
        "#cfgn.input_dim = 6 if cfgn.normal else 3"
      ]
    },
    {
      "cell_type": "markdown",
      "metadata": {
        "id": "jNiHkTOErpAl"
      },
      "source": [
        "# Architectures"
      ]
    },
    {
      "cell_type": "markdown",
      "metadata": {
        "id": "IU8g4FvgBwMV"
      },
      "source": [
        "## Point Transformer Architecture"
      ]
    },
    {
      "cell_type": "code",
      "execution_count": null,
      "metadata": {
        "id": "Ao33mrssYEpL",
        "vscode": {
          "languageId": "python"
        }
      },
      "outputs": [],
      "source": [
        "class Classif_PointTransformer(nn.Module):\n",
        "    def __init__(self, cfgn) -> None:\n",
        "        super().__init__()\n",
        "        npoints, nblocks, nneighbor, n_c, d_points = cfgn.num_point, cfgn.model.nblocks, cfgn.model.nneighbor, cfgn.num_class, cfgn.input_dim\n",
        "        self.fc1 = nn.Sequential(\n",
        "            nn.Linear(d_points, 32),\n",
        "            nn.ReLU(),\n",
        "            nn.Linear(32, 32)\n",
        "        )\n",
        "        self.transformer1 = BlockPointTransformer(32, cfgn.model.transformer_dim, nneighbor)\n",
        "        self.transition_downs = nn.ModuleList()\n",
        "        self.transformers = nn.ModuleList()\n",
        "\n",
        "        #for each block, update of the TD and the transformer architecture\n",
        "        for i in range(nblocks):\n",
        "            channel = 32 * 2 ** (i + 1)\n",
        "            self.transition_downs.append(TransitionDown(npoints // 4 ** (i + 1), nneighbor, channel // 2, channel))\n",
        "            self.transformers.append(BlockPointTransformer(channel, cfgn.model.transformer_dim, nneighbor))\n",
        "            \n",
        "        self.fc2 = nn.Sequential(\n",
        "            nn.Linear(32 * 2 ** nblocks, 256), #128\n",
        "            nn.ReLU(),\n",
        "            nn.Linear(256, 64),\n",
        "            nn.ReLU(),\n",
        "            nn.Linear(64, n_c)\n",
        "        )\n",
        "        self.nblocks = nblocks\n",
        "    \n",
        "    def forward(self, x):\n",
        "        xyz = x[..., :3]\n",
        "        features = self.transformer1(xyz, self.fc1(x))[0]\n",
        "        for i in range(self.nblocks):\n",
        "            xyz, features = self.transition_downs[i](xyz, features)\n",
        "            features = self.transformers[i](xyz, features)[0]\n",
        "        res = self.fc2(features.mean(1))\n",
        "        return res"
      ]
    },
    {
      "cell_type": "markdown",
      "metadata": {
        "id": "_wPUe8FisMMc"
      },
      "source": [
        "# Shape Classification"
      ]
    },
    {
      "cell_type": "code",
      "execution_count": null,
      "metadata": {
        "id": "CkCu5dj12Upg",
        "vscode": {
          "languageId": "python"
        }
      },
      "outputs": [],
      "source": [
        "def train(model, device, cfgn, train_loader, test_loader=None, epochs=100, val_step=5):\n",
        "\n",
        "    if epochs is None:\n",
        "        epochs = cfgn.epoch\n",
        "\n",
        "    criterion = nn.CrossEntropyLoss()\n",
        "\n",
        "    #differents optimizer choices\n",
        "\n",
        "    #Adam\n",
        "    if cfgn.optimizer == 'Adam':\n",
        "        optimizer = torch.optim.Adam(\n",
        "            model.parameters(),\n",
        "            lr=cfgn.learning_rate,\n",
        "            betas=(0.9, 0.999),\n",
        "            eps=1e-08,\n",
        "            weight_decay=cfgn.weight_decay\n",
        "        )\n",
        "    \n",
        "    #RMSProp\n",
        "    elif cfgn.optimizer == 'RMSprop':\n",
        "        optimizer = torch.optim.RMSprop(\n",
        "            model.parameters(),\n",
        "            lr=cfgn.learning_rate,\n",
        "            eps=1e-08,\n",
        "            weight_decay=cfgn.weight_decay\n",
        "        )\n",
        "\n",
        "    #SGD\n",
        "    else:\n",
        "        optimizer = torch.optim.SGD(model.parameters(), lr=cfgn.learning_rate, momentum=0.9, weight_decay=cfgn.weight_decay)\n",
        "    scheduler = torch.optim.lr_scheduler.MultiStepLR(optimizer, milestones=[epochs*6//10,epochs*8//10], gamma=0.1)\n",
        "    \n",
        "    val_accs = []\n",
        "    train_accs = []\n",
        "    best_val_acc = -1.0\n",
        "    loss=0\n",
        "\n",
        "    #iterations for each epoch\n",
        "    for epoch in tqdm(range(epochs), position=0, leave=True): \n",
        "        model.train()\n",
        "        correct = total = 0\n",
        "        for i, data in enumerate(train_loader, 0):\n",
        "            inputs, labels = data\n",
        "            inputs, labels = inputs.to(device), labels.to(device)\n",
        "            optimizer.zero_grad()\n",
        "            outputs = model(inputs)\n",
        "            loss = criterion(outputs, labels.long()) #loss update\n",
        "            loss.backward()\n",
        "            optimizer.step()\n",
        "            #optimizer.backward()\n",
        "            _, predicted = torch.max(outputs.data, 1)\n",
        "            total += labels.size(0)\n",
        "            correct += (predicted == labels).sum().item()\n",
        "        train_acc = 100. * correct / total\n",
        "        train_accs.append(train_acc)\n",
        "\n",
        "        #train_acc = correct \n",
        "        #train_accs.append(train_acc)\n",
        "\n",
        "        if (epoch+1) % val_step  == 0:\n",
        "            model.eval()\n",
        "            correct = total = 0\n",
        "            if test_loader:\n",
        "                with torch.no_grad():\n",
        "                    for data in test_loader:\n",
        "                        inputs, labels = data\n",
        "                        inputs, labels = inputs.to(device), labels.to(device)\n",
        "                        outputs = model(inputs)\n",
        "                        _, predicted = torch.max(outputs.data, 1)\n",
        "                        total += labels.size(0)\n",
        "                        correct += (predicted == labels).sum().item()\n",
        "                val_acc = 100. * correct / total\n",
        "                val_accs.append(val_acc)\n",
        "                print('\\n Epoch: %d, Train accuracy: %.1f %%, Test accuracy: %.1f %%' %(epoch+1, train_acc, val_acc))\n",
        "            if val_accs[-1] > best_val_acc:\n",
        "                torch.save(model.state_dict(), 'checkpoint.pth')\n",
        "        else:\n",
        "            print('\\n Epoch: %d, Train accuracy: %.1f %%' %(epoch+1, train_acc))\n",
        "\n",
        "        scheduler.step()\n",
        "\n",
        "    return train_accs, val_accs"
      ]
    },
    {
      "cell_type": "code",
      "execution_count": null,
      "metadata": {
        "colab": {
          "base_uri": "https://localhost:8080/"
        },
        "id": "3xiqflWgsO6z",
        "outputId": "e4078b50-c4c4-419d-f5eb-5285b1fdc6d6",
        "vscode": {
          "languageId": "python"
        }
      },
      "outputs": [
        {
          "name": "stdout",
          "output_type": "stream",
          "text": [
            "Classif_PointTransformer(\n",
            "  (fc1): Sequential(\n",
            "    (0): Linear(in_features=6, out_features=32, bias=True)\n",
            "    (1): ReLU()\n",
            "    (2): Linear(in_features=32, out_features=32, bias=True)\n",
            "  )\n",
            "  (transformer1): BlockPointTransformer(\n",
            "    (fc1): Linear(in_features=32, out_features=32, bias=True)\n",
            "    (fc2): Linear(in_features=32, out_features=32, bias=True)\n",
            "    (fc_delta): Sequential(\n",
            "      (0): Linear(in_features=3, out_features=32, bias=True)\n",
            "      (1): ReLU()\n",
            "      (2): Linear(in_features=32, out_features=32, bias=True)\n",
            "    )\n",
            "    (fc_gamma): Sequential(\n",
            "      (0): Linear(in_features=32, out_features=32, bias=True)\n",
            "      (1): ReLU()\n",
            "      (2): Linear(in_features=32, out_features=32, bias=True)\n",
            "    )\n",
            "    (phi): Linear(in_features=32, out_features=32, bias=False)\n",
            "    (psi): Linear(in_features=32, out_features=32, bias=False)\n",
            "    (alpha): Linear(in_features=32, out_features=32, bias=False)\n",
            "  )\n",
            "  (transition_downs): ModuleList(\n",
            "    (0): TransitionDown(\n",
            "      (mlp_convs): ModuleList(\n",
            "        (0): Conv2d(32, 64, kernel_size=(1, 1), stride=(1, 1))\n",
            "        (1): Conv2d(64, 64, kernel_size=(1, 1), stride=(1, 1))\n",
            "      )\n",
            "      (mlp_bns): ModuleList(\n",
            "        (0): BatchNorm2d(64, eps=1e-05, momentum=0.1, affine=True, track_running_stats=True)\n",
            "        (1): BatchNorm2d(64, eps=1e-05, momentum=0.1, affine=True, track_running_stats=True)\n",
            "      )\n",
            "    )\n",
            "    (1): TransitionDown(\n",
            "      (mlp_convs): ModuleList(\n",
            "        (0): Conv2d(64, 128, kernel_size=(1, 1), stride=(1, 1))\n",
            "        (1): Conv2d(128, 128, kernel_size=(1, 1), stride=(1, 1))\n",
            "      )\n",
            "      (mlp_bns): ModuleList(\n",
            "        (0): BatchNorm2d(128, eps=1e-05, momentum=0.1, affine=True, track_running_stats=True)\n",
            "        (1): BatchNorm2d(128, eps=1e-05, momentum=0.1, affine=True, track_running_stats=True)\n",
            "      )\n",
            "    )\n",
            "    (2): TransitionDown(\n",
            "      (mlp_convs): ModuleList(\n",
            "        (0): Conv2d(128, 256, kernel_size=(1, 1), stride=(1, 1))\n",
            "        (1): Conv2d(256, 256, kernel_size=(1, 1), stride=(1, 1))\n",
            "      )\n",
            "      (mlp_bns): ModuleList(\n",
            "        (0): BatchNorm2d(256, eps=1e-05, momentum=0.1, affine=True, track_running_stats=True)\n",
            "        (1): BatchNorm2d(256, eps=1e-05, momentum=0.1, affine=True, track_running_stats=True)\n",
            "      )\n",
            "    )\n",
            "    (3): TransitionDown(\n",
            "      (mlp_convs): ModuleList(\n",
            "        (0): Conv2d(256, 512, kernel_size=(1, 1), stride=(1, 1))\n",
            "        (1): Conv2d(512, 512, kernel_size=(1, 1), stride=(1, 1))\n",
            "      )\n",
            "      (mlp_bns): ModuleList(\n",
            "        (0): BatchNorm2d(512, eps=1e-05, momentum=0.1, affine=True, track_running_stats=True)\n",
            "        (1): BatchNorm2d(512, eps=1e-05, momentum=0.1, affine=True, track_running_stats=True)\n",
            "      )\n",
            "    )\n",
            "  )\n",
            "  (transformers): ModuleList(\n",
            "    (0): BlockPointTransformer(\n",
            "      (fc1): Linear(in_features=64, out_features=32, bias=True)\n",
            "      (fc2): Linear(in_features=32, out_features=64, bias=True)\n",
            "      (fc_delta): Sequential(\n",
            "        (0): Linear(in_features=3, out_features=32, bias=True)\n",
            "        (1): ReLU()\n",
            "        (2): Linear(in_features=32, out_features=32, bias=True)\n",
            "      )\n",
            "      (fc_gamma): Sequential(\n",
            "        (0): Linear(in_features=32, out_features=32, bias=True)\n",
            "        (1): ReLU()\n",
            "        (2): Linear(in_features=32, out_features=32, bias=True)\n",
            "      )\n",
            "      (phi): Linear(in_features=32, out_features=32, bias=False)\n",
            "      (psi): Linear(in_features=32, out_features=32, bias=False)\n",
            "      (alpha): Linear(in_features=32, out_features=32, bias=False)\n",
            "    )\n",
            "    (1): BlockPointTransformer(\n",
            "      (fc1): Linear(in_features=128, out_features=32, bias=True)\n",
            "      (fc2): Linear(in_features=32, out_features=128, bias=True)\n",
            "      (fc_delta): Sequential(\n",
            "        (0): Linear(in_features=3, out_features=32, bias=True)\n",
            "        (1): ReLU()\n",
            "        (2): Linear(in_features=32, out_features=32, bias=True)\n",
            "      )\n",
            "      (fc_gamma): Sequential(\n",
            "        (0): Linear(in_features=32, out_features=32, bias=True)\n",
            "        (1): ReLU()\n",
            "        (2): Linear(in_features=32, out_features=32, bias=True)\n",
            "      )\n",
            "      (phi): Linear(in_features=32, out_features=32, bias=False)\n",
            "      (psi): Linear(in_features=32, out_features=32, bias=False)\n",
            "      (alpha): Linear(in_features=32, out_features=32, bias=False)\n",
            "    )\n",
            "    (2): BlockPointTransformer(\n",
            "      (fc1): Linear(in_features=256, out_features=32, bias=True)\n",
            "      (fc2): Linear(in_features=32, out_features=256, bias=True)\n",
            "      (fc_delta): Sequential(\n",
            "        (0): Linear(in_features=3, out_features=32, bias=True)\n",
            "        (1): ReLU()\n",
            "        (2): Linear(in_features=32, out_features=32, bias=True)\n",
            "      )\n",
            "      (fc_gamma): Sequential(\n",
            "        (0): Linear(in_features=32, out_features=32, bias=True)\n",
            "        (1): ReLU()\n",
            "        (2): Linear(in_features=32, out_features=32, bias=True)\n",
            "      )\n",
            "      (phi): Linear(in_features=32, out_features=32, bias=False)\n",
            "      (psi): Linear(in_features=32, out_features=32, bias=False)\n",
            "      (alpha): Linear(in_features=32, out_features=32, bias=False)\n",
            "    )\n",
            "    (3): BlockPointTransformer(\n",
            "      (fc1): Linear(in_features=512, out_features=32, bias=True)\n",
            "      (fc2): Linear(in_features=32, out_features=512, bias=True)\n",
            "      (fc_delta): Sequential(\n",
            "        (0): Linear(in_features=3, out_features=32, bias=True)\n",
            "        (1): ReLU()\n",
            "        (2): Linear(in_features=32, out_features=32, bias=True)\n",
            "      )\n",
            "      (fc_gamma): Sequential(\n",
            "        (0): Linear(in_features=32, out_features=32, bias=True)\n",
            "        (1): ReLU()\n",
            "        (2): Linear(in_features=32, out_features=32, bias=True)\n",
            "      )\n",
            "      (phi): Linear(in_features=32, out_features=32, bias=False)\n",
            "      (psi): Linear(in_features=32, out_features=32, bias=False)\n",
            "      (alpha): Linear(in_features=32, out_features=32, bias=False)\n",
            "    )\n",
            "  )\n",
            "  (fc2): Sequential(\n",
            "    (0): Linear(in_features=512, out_features=256, bias=True)\n",
            "    (1): ReLU()\n",
            "    (2): Linear(in_features=256, out_features=64, bias=True)\n",
            "    (3): ReLU()\n",
            "    (4): Linear(in_features=64, out_features=40, bias=True)\n",
            "  )\n",
            ")\n"
          ]
        }
      ],
      "source": [
        "model = Classif_PointTransformer(cfgn).to(device)\n",
        "print(model)"
      ]
    },
    {
      "cell_type": "code",
      "execution_count": null,
      "metadata": {
        "colab": {
          "base_uri": "https://localhost:8080/"
        },
        "id": "FFzleW5ryfGg",
        "outputId": "05dd4ef2-f5fa-4219-b4d2-d3d4e5116d35",
        "vscode": {
          "languageId": "python"
        }
      },
      "outputs": [
        {
          "name": "stdout",
          "output_type": "stream",
          "text": [
            "The size of train data is 9843\n",
            "Processing data data/modelnet40_normal_resampled/modelnet40_train_1024pts_fps.dat (only running in the first time)...\n"
          ]
        },
        {
          "name": "stderr",
          "output_type": "stream",
          "text": [
            "100%|██████████| 9843/9843 [1:18:50<00:00,  2.08it/s]\n"
          ]
        },
        {
          "name": "stdout",
          "output_type": "stream",
          "text": [
            "The size of test data is 2468\n",
            "Load processed data from data/modelnet40_normal_resampled/modelnet40_test_1024pts_fps.dat...\n"
          ]
        }
      ],
      "source": [
        "#retrieve the test and train data\n",
        "train_loader = torch.utils.data.DataLoader(\n",
        "    ModelNetDataLoader('data/modelnet40_normal_resampled/', split='train', process_data=True, transforms=None), \n",
        "    batch_size=cfgn.batch_size, #by batch\n",
        "    shuffle=True\n",
        ")\n",
        "\n",
        "test_loader = torch.utils.data.DataLoader(\n",
        "    ModelNetDataLoader('data/modelnet40_normal_resampled/', split='test', process_data=True, transforms=None), \n",
        "    batch_size=64, \n",
        "    shuffle=True\n",
        ")"
      ]
    },
    {
      "cell_type": "markdown",
      "metadata": {
        "id": "fYFEDauXuzZb"
      },
      "source": [
        "## Training launch"
      ]
    },
    {
      "cell_type": "code",
      "execution_count": null,
      "metadata": {
        "colab": {
          "base_uri": "https://localhost:8080/"
        },
        "id": "NYz6UJgw5d3t",
        "outputId": "5a4777af-9908-4487-d36a-2ad2584f98ef",
        "vscode": {
          "languageId": "python"
        }
      },
      "outputs": [
        {
          "name": "stderr",
          "output_type": "stream",
          "text": [
            "  1%|          | 1/100 [00:49<1:22:06, 49.76s/it]"
          ]
        },
        {
          "name": "stdout",
          "output_type": "stream",
          "text": [
            "\n",
            " Epoch: 1, Train accuracy: 44.0 %\n"
          ]
        },
        {
          "name": "stderr",
          "output_type": "stream",
          "text": [
            "\r  2%|▏         | 2/100 [01:33<1:15:22, 46.15s/it]"
          ]
        },
        {
          "name": "stdout",
          "output_type": "stream",
          "text": [
            "\n",
            " Epoch: 2, Train accuracy: 62.7 %\n"
          ]
        },
        {
          "name": "stderr",
          "output_type": "stream",
          "text": [
            "\r  3%|▎         | 3/100 [02:15<1:11:42, 44.36s/it]"
          ]
        },
        {
          "name": "stdout",
          "output_type": "stream",
          "text": [
            "\n",
            " Epoch: 3, Train accuracy: 68.6 %\n"
          ]
        },
        {
          "name": "stderr",
          "output_type": "stream",
          "text": [
            "\r  4%|▍         | 4/100 [02:57<1:09:27, 43.41s/it]"
          ]
        },
        {
          "name": "stdout",
          "output_type": "stream",
          "text": [
            "\n",
            " Epoch: 4, Train accuracy: 73.6 %\n"
          ]
        },
        {
          "name": "stderr",
          "output_type": "stream",
          "text": [
            "\r  5%|▌         | 5/100 [03:39<1:07:59, 42.95s/it]"
          ]
        },
        {
          "name": "stdout",
          "output_type": "stream",
          "text": [
            "\n",
            " Epoch: 5, Train accuracy: 75.5 %\n"
          ]
        },
        {
          "name": "stderr",
          "output_type": "stream",
          "text": [
            "\r  6%|▌         | 6/100 [04:21<1:06:46, 42.62s/it]"
          ]
        },
        {
          "name": "stdout",
          "output_type": "stream",
          "text": [
            "\n",
            " Epoch: 6, Train accuracy: 77.9 %\n"
          ]
        },
        {
          "name": "stderr",
          "output_type": "stream",
          "text": [
            "\r  7%|▋         | 7/100 [05:03<1:05:44, 42.42s/it]"
          ]
        },
        {
          "name": "stdout",
          "output_type": "stream",
          "text": [
            "\n",
            " Epoch: 7, Train accuracy: 80.1 %\n"
          ]
        },
        {
          "name": "stderr",
          "output_type": "stream",
          "text": [
            "\r  8%|▊         | 8/100 [05:45<1:04:39, 42.17s/it]"
          ]
        },
        {
          "name": "stdout",
          "output_type": "stream",
          "text": [
            "\n",
            " Epoch: 8, Train accuracy: 81.1 %\n"
          ]
        },
        {
          "name": "stderr",
          "output_type": "stream",
          "text": [
            "\r  9%|▉         | 9/100 [06:27<1:03:49, 42.08s/it]"
          ]
        },
        {
          "name": "stdout",
          "output_type": "stream",
          "text": [
            "\n",
            " Epoch: 9, Train accuracy: 81.8 %\n"
          ]
        },
        {
          "name": "stderr",
          "output_type": "stream",
          "text": [
            "\r 10%|█         | 10/100 [07:15<1:06:02, 44.02s/it]"
          ]
        },
        {
          "name": "stdout",
          "output_type": "stream",
          "text": [
            "\n",
            " Epoch: 10, Train accuracy: 83.5 %, Test accuracy: 74.5 %\n"
          ]
        },
        {
          "name": "stderr",
          "output_type": "stream",
          "text": [
            "\r 11%|█         | 11/100 [07:57<1:04:11, 43.28s/it]"
          ]
        },
        {
          "name": "stdout",
          "output_type": "stream",
          "text": [
            "\n",
            " Epoch: 11, Train accuracy: 84.4 %\n"
          ]
        },
        {
          "name": "stderr",
          "output_type": "stream",
          "text": [
            "\r 12%|█▏        | 12/100 [08:39<1:02:59, 42.95s/it]"
          ]
        },
        {
          "name": "stdout",
          "output_type": "stream",
          "text": [
            "\n",
            " Epoch: 12, Train accuracy: 83.5 %\n"
          ]
        },
        {
          "name": "stderr",
          "output_type": "stream",
          "text": [
            "\r 13%|█▎        | 13/100 [09:21<1:01:55, 42.70s/it]"
          ]
        },
        {
          "name": "stdout",
          "output_type": "stream",
          "text": [
            "\n",
            " Epoch: 13, Train accuracy: 84.3 %\n"
          ]
        },
        {
          "name": "stderr",
          "output_type": "stream",
          "text": [
            "\r 14%|█▍        | 14/100 [10:03<1:00:57, 42.52s/it]"
          ]
        },
        {
          "name": "stdout",
          "output_type": "stream",
          "text": [
            "\n",
            " Epoch: 14, Train accuracy: 86.0 %\n"
          ]
        },
        {
          "name": "stderr",
          "output_type": "stream",
          "text": [
            "\r 15%|█▌        | 15/100 [10:45<1:00:02, 42.39s/it]"
          ]
        },
        {
          "name": "stdout",
          "output_type": "stream",
          "text": [
            "\n",
            " Epoch: 15, Train accuracy: 85.9 %\n"
          ]
        },
        {
          "name": "stderr",
          "output_type": "stream",
          "text": [
            "\r 16%|█▌        | 16/100 [11:27<59:12, 42.29s/it]  "
          ]
        },
        {
          "name": "stdout",
          "output_type": "stream",
          "text": [
            "\n",
            " Epoch: 16, Train accuracy: 86.5 %\n"
          ]
        },
        {
          "name": "stderr",
          "output_type": "stream",
          "text": [
            "\r 17%|█▋        | 17/100 [12:09<58:22, 42.20s/it]"
          ]
        },
        {
          "name": "stdout",
          "output_type": "stream",
          "text": [
            "\n",
            " Epoch: 17, Train accuracy: 87.6 %\n"
          ]
        },
        {
          "name": "stderr",
          "output_type": "stream",
          "text": [
            "\r 18%|█▊        | 18/100 [12:51<57:33, 42.12s/it]"
          ]
        },
        {
          "name": "stdout",
          "output_type": "stream",
          "text": [
            "\n",
            " Epoch: 18, Train accuracy: 87.1 %\n"
          ]
        },
        {
          "name": "stderr",
          "output_type": "stream",
          "text": [
            "\r 19%|█▉        | 19/100 [13:33<56:46, 42.05s/it]"
          ]
        },
        {
          "name": "stdout",
          "output_type": "stream",
          "text": [
            "\n",
            " Epoch: 19, Train accuracy: 86.4 %\n"
          ]
        },
        {
          "name": "stderr",
          "output_type": "stream",
          "text": [
            "\r 20%|██        | 20/100 [14:21<58:37, 43.97s/it]"
          ]
        },
        {
          "name": "stdout",
          "output_type": "stream",
          "text": [
            "\n",
            " Epoch: 20, Train accuracy: 87.1 %, Test accuracy: 77.9 %\n"
          ]
        },
        {
          "name": "stderr",
          "output_type": "stream",
          "text": [
            "\r 21%|██        | 21/100 [15:03<56:53, 43.20s/it]"
          ]
        },
        {
          "name": "stdout",
          "output_type": "stream",
          "text": [
            "\n",
            " Epoch: 21, Train accuracy: 87.7 %\n"
          ]
        },
        {
          "name": "stderr",
          "output_type": "stream",
          "text": [
            "\r 22%|██▏       | 22/100 [15:45<55:41, 42.84s/it]"
          ]
        },
        {
          "name": "stdout",
          "output_type": "stream",
          "text": [
            "\n",
            " Epoch: 22, Train accuracy: 88.9 %\n"
          ]
        },
        {
          "name": "stderr",
          "output_type": "stream",
          "text": [
            "\r 23%|██▎       | 23/100 [16:27<54:35, 42.54s/it]"
          ]
        },
        {
          "name": "stdout",
          "output_type": "stream",
          "text": [
            "\n",
            " Epoch: 23, Train accuracy: 88.0 %\n"
          ]
        },
        {
          "name": "stderr",
          "output_type": "stream",
          "text": [
            "\r 24%|██▍       | 24/100 [17:09<53:39, 42.37s/it]"
          ]
        },
        {
          "name": "stdout",
          "output_type": "stream",
          "text": [
            "\n",
            " Epoch: 24, Train accuracy: 89.1 %\n"
          ]
        },
        {
          "name": "stderr",
          "output_type": "stream",
          "text": [
            "\r 25%|██▌       | 25/100 [17:50<52:44, 42.20s/it]"
          ]
        },
        {
          "name": "stdout",
          "output_type": "stream",
          "text": [
            "\n",
            " Epoch: 25, Train accuracy: 88.8 %\n"
          ]
        },
        {
          "name": "stderr",
          "output_type": "stream",
          "text": [
            "\r 26%|██▌       | 26/100 [18:32<51:55, 42.10s/it]"
          ]
        },
        {
          "name": "stdout",
          "output_type": "stream",
          "text": [
            "\n",
            " Epoch: 26, Train accuracy: 88.5 %\n"
          ]
        },
        {
          "name": "stderr",
          "output_type": "stream",
          "text": [
            "\r 27%|██▋       | 27/100 [19:14<51:10, 42.07s/it]"
          ]
        },
        {
          "name": "stdout",
          "output_type": "stream",
          "text": [
            "\n",
            " Epoch: 27, Train accuracy: 88.6 %\n"
          ]
        },
        {
          "name": "stderr",
          "output_type": "stream",
          "text": [
            "\r 28%|██▊       | 28/100 [19:56<50:27, 42.06s/it]"
          ]
        },
        {
          "name": "stdout",
          "output_type": "stream",
          "text": [
            "\n",
            " Epoch: 28, Train accuracy: 88.3 %\n"
          ]
        },
        {
          "name": "stderr",
          "output_type": "stream",
          "text": [
            "\r 29%|██▉       | 29/100 [20:38<49:44, 42.03s/it]"
          ]
        },
        {
          "name": "stdout",
          "output_type": "stream",
          "text": [
            "\n",
            " Epoch: 29, Train accuracy: 89.7 %\n"
          ]
        },
        {
          "name": "stderr",
          "output_type": "stream",
          "text": [
            "\r 30%|███       | 30/100 [21:27<51:24, 44.06s/it]"
          ]
        },
        {
          "name": "stdout",
          "output_type": "stream",
          "text": [
            "\n",
            " Epoch: 30, Train accuracy: 89.7 %, Test accuracy: 82.5 %\n"
          ]
        },
        {
          "name": "stderr",
          "output_type": "stream",
          "text": [
            "\r 31%|███       | 31/100 [22:09<49:46, 43.28s/it]"
          ]
        },
        {
          "name": "stdout",
          "output_type": "stream",
          "text": [
            "\n",
            " Epoch: 31, Train accuracy: 89.3 %\n"
          ]
        },
        {
          "name": "stderr",
          "output_type": "stream",
          "text": [
            "\r 32%|███▏      | 32/100 [22:51<48:36, 42.89s/it]"
          ]
        },
        {
          "name": "stdout",
          "output_type": "stream",
          "text": [
            "\n",
            " Epoch: 32, Train accuracy: 89.5 %\n"
          ]
        },
        {
          "name": "stderr",
          "output_type": "stream",
          "text": [
            "\r 33%|███▎      | 33/100 [23:33<47:38, 42.66s/it]"
          ]
        },
        {
          "name": "stdout",
          "output_type": "stream",
          "text": [
            "\n",
            " Epoch: 33, Train accuracy: 90.0 %\n"
          ]
        },
        {
          "name": "stderr",
          "output_type": "stream",
          "text": [
            "\r 34%|███▍      | 34/100 [24:14<46:37, 42.39s/it]"
          ]
        },
        {
          "name": "stdout",
          "output_type": "stream",
          "text": [
            "\n",
            " Epoch: 34, Train accuracy: 90.4 %\n"
          ]
        },
        {
          "name": "stderr",
          "output_type": "stream",
          "text": [
            "\r 35%|███▌      | 35/100 [24:56<45:43, 42.21s/it]"
          ]
        },
        {
          "name": "stdout",
          "output_type": "stream",
          "text": [
            "\n",
            " Epoch: 35, Train accuracy: 90.0 %\n"
          ]
        },
        {
          "name": "stderr",
          "output_type": "stream",
          "text": [
            "\r 36%|███▌      | 36/100 [25:38<44:51, 42.05s/it]"
          ]
        },
        {
          "name": "stdout",
          "output_type": "stream",
          "text": [
            "\n",
            " Epoch: 36, Train accuracy: 89.9 %\n"
          ]
        },
        {
          "name": "stderr",
          "output_type": "stream",
          "text": [
            "\r 37%|███▋      | 37/100 [26:20<44:04, 41.97s/it]"
          ]
        },
        {
          "name": "stdout",
          "output_type": "stream",
          "text": [
            "\n",
            " Epoch: 37, Train accuracy: 90.1 %\n"
          ]
        },
        {
          "name": "stderr",
          "output_type": "stream",
          "text": [
            "\r 38%|███▊      | 38/100 [27:02<43:18, 41.92s/it]"
          ]
        },
        {
          "name": "stdout",
          "output_type": "stream",
          "text": [
            "\n",
            " Epoch: 38, Train accuracy: 90.9 %\n"
          ]
        },
        {
          "name": "stderr",
          "output_type": "stream",
          "text": [
            "\r 39%|███▉      | 39/100 [27:44<42:38, 41.94s/it]"
          ]
        },
        {
          "name": "stdout",
          "output_type": "stream",
          "text": [
            "\n",
            " Epoch: 39, Train accuracy: 89.9 %\n"
          ]
        },
        {
          "name": "stderr",
          "output_type": "stream",
          "text": [
            "\r 40%|████      | 40/100 [28:32<43:56, 43.94s/it]"
          ]
        },
        {
          "name": "stdout",
          "output_type": "stream",
          "text": [
            "\n",
            " Epoch: 40, Train accuracy: 89.7 %, Test accuracy: 77.3 %\n"
          ]
        },
        {
          "name": "stderr",
          "output_type": "stream",
          "text": [
            "\r 41%|████      | 41/100 [29:14<42:27, 43.17s/it]"
          ]
        },
        {
          "name": "stdout",
          "output_type": "stream",
          "text": [
            "\n",
            " Epoch: 41, Train accuracy: 90.5 %\n"
          ]
        },
        {
          "name": "stderr",
          "output_type": "stream",
          "text": [
            "\r 42%|████▏     | 42/100 [29:55<41:19, 42.75s/it]"
          ]
        },
        {
          "name": "stdout",
          "output_type": "stream",
          "text": [
            "\n",
            " Epoch: 42, Train accuracy: 90.5 %\n"
          ]
        },
        {
          "name": "stderr",
          "output_type": "stream",
          "text": [
            "\r 43%|████▎     | 43/100 [30:37<40:20, 42.46s/it]"
          ]
        },
        {
          "name": "stdout",
          "output_type": "stream",
          "text": [
            "\n",
            " Epoch: 43, Train accuracy: 91.2 %\n"
          ]
        },
        {
          "name": "stderr",
          "output_type": "stream",
          "text": [
            "\r 44%|████▍     | 44/100 [31:19<39:29, 42.31s/it]"
          ]
        },
        {
          "name": "stdout",
          "output_type": "stream",
          "text": [
            "\n",
            " Epoch: 44, Train accuracy: 91.8 %\n"
          ]
        },
        {
          "name": "stderr",
          "output_type": "stream",
          "text": [
            "\r 45%|████▌     | 45/100 [32:01<38:41, 42.20s/it]"
          ]
        },
        {
          "name": "stdout",
          "output_type": "stream",
          "text": [
            "\n",
            " Epoch: 45, Train accuracy: 91.1 %\n"
          ]
        },
        {
          "name": "stderr",
          "output_type": "stream",
          "text": [
            "\r 46%|████▌     | 46/100 [32:43<37:53, 42.11s/it]"
          ]
        },
        {
          "name": "stdout",
          "output_type": "stream",
          "text": [
            "\n",
            " Epoch: 46, Train accuracy: 90.6 %\n"
          ]
        },
        {
          "name": "stderr",
          "output_type": "stream",
          "text": [
            "\r 47%|████▋     | 47/100 [33:25<37:10, 42.08s/it]"
          ]
        },
        {
          "name": "stdout",
          "output_type": "stream",
          "text": [
            "\n",
            " Epoch: 47, Train accuracy: 90.5 %\n"
          ]
        },
        {
          "name": "stderr",
          "output_type": "stream",
          "text": [
            "\r 48%|████▊     | 48/100 [34:07<36:23, 42.00s/it]"
          ]
        },
        {
          "name": "stdout",
          "output_type": "stream",
          "text": [
            "\n",
            " Epoch: 48, Train accuracy: 90.7 %\n"
          ]
        },
        {
          "name": "stderr",
          "output_type": "stream",
          "text": [
            "\r 49%|████▉     | 49/100 [34:49<35:41, 41.99s/it]"
          ]
        },
        {
          "name": "stdout",
          "output_type": "stream",
          "text": [
            "\n",
            " Epoch: 49, Train accuracy: 90.3 %\n"
          ]
        },
        {
          "name": "stderr",
          "output_type": "stream",
          "text": [
            "\r 50%|█████     | 50/100 [35:37<36:31, 43.84s/it]"
          ]
        },
        {
          "name": "stdout",
          "output_type": "stream",
          "text": [
            "\n",
            " Epoch: 50, Train accuracy: 91.0 %, Test accuracy: 86.6 %\n"
          ]
        },
        {
          "name": "stderr",
          "output_type": "stream",
          "text": [
            "\r 51%|█████     | 51/100 [36:18<35:11, 43.08s/it]"
          ]
        },
        {
          "name": "stdout",
          "output_type": "stream",
          "text": [
            "\n",
            " Epoch: 51, Train accuracy: 91.2 %\n"
          ]
        },
        {
          "name": "stderr",
          "output_type": "stream",
          "text": [
            "\r 52%|█████▏    | 52/100 [37:00<34:10, 42.71s/it]"
          ]
        },
        {
          "name": "stdout",
          "output_type": "stream",
          "text": [
            "\n",
            " Epoch: 52, Train accuracy: 91.4 %\n"
          ]
        },
        {
          "name": "stderr",
          "output_type": "stream",
          "text": [
            "\r 53%|█████▎    | 53/100 [37:42<33:16, 42.47s/it]"
          ]
        },
        {
          "name": "stdout",
          "output_type": "stream",
          "text": [
            "\n",
            " Epoch: 53, Train accuracy: 91.7 %\n"
          ]
        },
        {
          "name": "stderr",
          "output_type": "stream",
          "text": [
            "\r 54%|█████▍    | 54/100 [38:24<32:25, 42.29s/it]"
          ]
        },
        {
          "name": "stdout",
          "output_type": "stream",
          "text": [
            "\n",
            " Epoch: 54, Train accuracy: 91.7 %\n"
          ]
        },
        {
          "name": "stderr",
          "output_type": "stream",
          "text": [
            "\r 55%|█████▌    | 55/100 [39:06<31:38, 42.18s/it]"
          ]
        },
        {
          "name": "stdout",
          "output_type": "stream",
          "text": [
            "\n",
            " Epoch: 55, Train accuracy: 92.6 %\n"
          ]
        },
        {
          "name": "stderr",
          "output_type": "stream",
          "text": [
            "\r 56%|█████▌    | 56/100 [39:48<30:51, 42.09s/it]"
          ]
        },
        {
          "name": "stdout",
          "output_type": "stream",
          "text": [
            "\n",
            " Epoch: 56, Train accuracy: 91.6 %\n"
          ]
        },
        {
          "name": "stderr",
          "output_type": "stream",
          "text": [
            "\r 57%|█████▋    | 57/100 [40:29<30:05, 41.98s/it]"
          ]
        },
        {
          "name": "stdout",
          "output_type": "stream",
          "text": [
            "\n",
            " Epoch: 57, Train accuracy: 91.1 %\n"
          ]
        },
        {
          "name": "stderr",
          "output_type": "stream",
          "text": [
            "\r 58%|█████▊    | 58/100 [41:11<29:20, 41.93s/it]"
          ]
        },
        {
          "name": "stdout",
          "output_type": "stream",
          "text": [
            "\n",
            " Epoch: 58, Train accuracy: 90.1 %\n"
          ]
        },
        {
          "name": "stderr",
          "output_type": "stream",
          "text": [
            "\r 59%|█████▉    | 59/100 [41:53<28:39, 41.94s/it]"
          ]
        },
        {
          "name": "stdout",
          "output_type": "stream",
          "text": [
            "\n",
            " Epoch: 59, Train accuracy: 91.1 %\n"
          ]
        },
        {
          "name": "stderr",
          "output_type": "stream",
          "text": [
            "\r 60%|██████    | 60/100 [42:42<29:16, 43.91s/it]"
          ]
        },
        {
          "name": "stdout",
          "output_type": "stream",
          "text": [
            "\n",
            " Epoch: 60, Train accuracy: 91.7 %, Test accuracy: 83.4 %\n"
          ]
        },
        {
          "name": "stderr",
          "output_type": "stream",
          "text": [
            "\r 61%|██████    | 61/100 [43:23<28:00, 43.10s/it]"
          ]
        },
        {
          "name": "stdout",
          "output_type": "stream",
          "text": [
            "\n",
            " Epoch: 61, Train accuracy: 94.5 %\n"
          ]
        },
        {
          "name": "stderr",
          "output_type": "stream",
          "text": [
            "\r 62%|██████▏   | 62/100 [44:05<27:02, 42.69s/it]"
          ]
        },
        {
          "name": "stdout",
          "output_type": "stream",
          "text": [
            "\n",
            " Epoch: 62, Train accuracy: 95.3 %\n"
          ]
        },
        {
          "name": "stderr",
          "output_type": "stream",
          "text": [
            "\r 63%|██████▎   | 63/100 [44:46<26:09, 42.42s/it]"
          ]
        },
        {
          "name": "stdout",
          "output_type": "stream",
          "text": [
            "\n",
            " Epoch: 63, Train accuracy: 95.7 %\n"
          ]
        },
        {
          "name": "stderr",
          "output_type": "stream",
          "text": [
            "\r 64%|██████▍   | 64/100 [45:28<25:23, 42.31s/it]"
          ]
        },
        {
          "name": "stdout",
          "output_type": "stream",
          "text": [
            "\n",
            " Epoch: 64, Train accuracy: 95.7 %\n"
          ]
        },
        {
          "name": "stderr",
          "output_type": "stream",
          "text": [
            "\r 65%|██████▌   | 65/100 [46:10<24:35, 42.15s/it]"
          ]
        },
        {
          "name": "stdout",
          "output_type": "stream",
          "text": [
            "\n",
            " Epoch: 65, Train accuracy: 95.9 %\n"
          ]
        },
        {
          "name": "stderr",
          "output_type": "stream",
          "text": [
            "\r 66%|██████▌   | 66/100 [46:52<23:50, 42.07s/it]"
          ]
        },
        {
          "name": "stdout",
          "output_type": "stream",
          "text": [
            "\n",
            " Epoch: 66, Train accuracy: 96.2 %\n"
          ]
        },
        {
          "name": "stderr",
          "output_type": "stream",
          "text": [
            "\r 67%|██████▋   | 67/100 [47:34<23:06, 42.03s/it]"
          ]
        },
        {
          "name": "stdout",
          "output_type": "stream",
          "text": [
            "\n",
            " Epoch: 67, Train accuracy: 96.0 %\n"
          ]
        },
        {
          "name": "stderr",
          "output_type": "stream",
          "text": [
            "\r 68%|██████▊   | 68/100 [48:16<22:24, 42.01s/it]"
          ]
        },
        {
          "name": "stdout",
          "output_type": "stream",
          "text": [
            "\n",
            " Epoch: 68, Train accuracy: 96.3 %\n"
          ]
        },
        {
          "name": "stderr",
          "output_type": "stream",
          "text": [
            "\r 69%|██████▉   | 69/100 [48:58<21:40, 41.96s/it]"
          ]
        },
        {
          "name": "stdout",
          "output_type": "stream",
          "text": [
            "\n",
            " Epoch: 69, Train accuracy: 96.3 %\n"
          ]
        },
        {
          "name": "stderr",
          "output_type": "stream",
          "text": [
            "\r 70%|███████   | 70/100 [49:46<21:56, 43.88s/it]"
          ]
        },
        {
          "name": "stdout",
          "output_type": "stream",
          "text": [
            "\n",
            " Epoch: 70, Train accuracy: 96.2 %, Test accuracy: 89.6 %\n"
          ]
        },
        {
          "name": "stderr",
          "output_type": "stream",
          "text": [
            "\r 71%|███████   | 71/100 [50:28<20:51, 43.15s/it]"
          ]
        },
        {
          "name": "stdout",
          "output_type": "stream",
          "text": [
            "\n",
            " Epoch: 71, Train accuracy: 96.3 %\n"
          ]
        },
        {
          "name": "stderr",
          "output_type": "stream",
          "text": [
            "\r 72%|███████▏  | 72/100 [51:10<19:58, 42.80s/it]"
          ]
        },
        {
          "name": "stdout",
          "output_type": "stream",
          "text": [
            "\n",
            " Epoch: 72, Train accuracy: 96.5 %\n"
          ]
        },
        {
          "name": "stderr",
          "output_type": "stream",
          "text": [
            "\r 73%|███████▎  | 73/100 [51:51<19:07, 42.50s/it]"
          ]
        },
        {
          "name": "stdout",
          "output_type": "stream",
          "text": [
            "\n",
            " Epoch: 73, Train accuracy: 96.7 %\n"
          ]
        },
        {
          "name": "stderr",
          "output_type": "stream",
          "text": [
            "\r 74%|███████▍  | 74/100 [52:33<18:19, 42.28s/it]"
          ]
        },
        {
          "name": "stdout",
          "output_type": "stream",
          "text": [
            "\n",
            " Epoch: 74, Train accuracy: 96.6 %\n"
          ]
        },
        {
          "name": "stderr",
          "output_type": "stream",
          "text": [
            "\r 75%|███████▌  | 75/100 [53:15<17:32, 42.12s/it]"
          ]
        },
        {
          "name": "stdout",
          "output_type": "stream",
          "text": [
            "\n",
            " Epoch: 75, Train accuracy: 97.0 %\n"
          ]
        },
        {
          "name": "stderr",
          "output_type": "stream",
          "text": [
            "\r 76%|███████▌  | 76/100 [53:57<16:49, 42.08s/it]"
          ]
        },
        {
          "name": "stdout",
          "output_type": "stream",
          "text": [
            "\n",
            " Epoch: 76, Train accuracy: 96.8 %\n"
          ]
        },
        {
          "name": "stderr",
          "output_type": "stream",
          "text": [
            "\r 77%|███████▋  | 77/100 [54:39<16:06, 42.01s/it]"
          ]
        },
        {
          "name": "stdout",
          "output_type": "stream",
          "text": [
            "\n",
            " Epoch: 77, Train accuracy: 96.8 %\n"
          ]
        },
        {
          "name": "stderr",
          "output_type": "stream",
          "text": [
            "\r 78%|███████▊  | 78/100 [55:21<15:23, 41.97s/it]"
          ]
        },
        {
          "name": "stdout",
          "output_type": "stream",
          "text": [
            "\n",
            " Epoch: 78, Train accuracy: 96.9 %\n"
          ]
        },
        {
          "name": "stderr",
          "output_type": "stream",
          "text": [
            "\r 79%|███████▉  | 79/100 [56:02<14:39, 41.89s/it]"
          ]
        },
        {
          "name": "stdout",
          "output_type": "stream",
          "text": [
            "\n",
            " Epoch: 79, Train accuracy: 97.0 %\n"
          ]
        },
        {
          "name": "stderr",
          "output_type": "stream",
          "text": [
            "\r 80%|████████  | 80/100 [56:51<14:36, 43.84s/it]"
          ]
        },
        {
          "name": "stdout",
          "output_type": "stream",
          "text": [
            "\n",
            " Epoch: 80, Train accuracy: 96.8 %, Test accuracy: 89.4 %\n"
          ]
        },
        {
          "name": "stderr",
          "output_type": "stream",
          "text": [
            "\r 81%|████████  | 81/100 [57:32<13:38, 43.09s/it]"
          ]
        },
        {
          "name": "stdout",
          "output_type": "stream",
          "text": [
            "\n",
            " Epoch: 81, Train accuracy: 97.3 %\n"
          ]
        },
        {
          "name": "stderr",
          "output_type": "stream",
          "text": [
            "\r 82%|████████▏ | 82/100 [58:14<12:48, 42.69s/it]"
          ]
        },
        {
          "name": "stdout",
          "output_type": "stream",
          "text": [
            "\n",
            " Epoch: 82, Train accuracy: 97.2 %\n"
          ]
        },
        {
          "name": "stderr",
          "output_type": "stream",
          "text": [
            "\r 83%|████████▎ | 83/100 [58:56<12:01, 42.44s/it]"
          ]
        },
        {
          "name": "stdout",
          "output_type": "stream",
          "text": [
            "\n",
            " Epoch: 83, Train accuracy: 97.4 %\n"
          ]
        },
        {
          "name": "stderr",
          "output_type": "stream",
          "text": [
            "\r 84%|████████▍ | 84/100 [59:38<11:16, 42.30s/it]"
          ]
        },
        {
          "name": "stdout",
          "output_type": "stream",
          "text": [
            "\n",
            " Epoch: 84, Train accuracy: 97.5 %\n"
          ]
        },
        {
          "name": "stderr",
          "output_type": "stream",
          "text": [
            "\r 85%|████████▌ | 85/100 [1:00:19<10:31, 42.12s/it]"
          ]
        },
        {
          "name": "stdout",
          "output_type": "stream",
          "text": [
            "\n",
            " Epoch: 85, Train accuracy: 97.6 %\n"
          ]
        },
        {
          "name": "stderr",
          "output_type": "stream",
          "text": [
            "\r 86%|████████▌ | 86/100 [1:01:01<09:48, 42.00s/it]"
          ]
        },
        {
          "name": "stdout",
          "output_type": "stream",
          "text": [
            "\n",
            " Epoch: 86, Train accuracy: 97.4 %\n"
          ]
        },
        {
          "name": "stderr",
          "output_type": "stream",
          "text": [
            "\r 87%|████████▋ | 87/100 [1:01:43<09:05, 41.95s/it]"
          ]
        },
        {
          "name": "stdout",
          "output_type": "stream",
          "text": [
            "\n",
            " Epoch: 87, Train accuracy: 97.4 %\n"
          ]
        },
        {
          "name": "stderr",
          "output_type": "stream",
          "text": [
            "\r 88%|████████▊ | 88/100 [1:02:25<08:23, 41.93s/it]"
          ]
        },
        {
          "name": "stdout",
          "output_type": "stream",
          "text": [
            "\n",
            " Epoch: 88, Train accuracy: 97.3 %\n"
          ]
        },
        {
          "name": "stderr",
          "output_type": "stream",
          "text": [
            "\r 89%|████████▉ | 89/100 [1:03:07<07:40, 41.90s/it]"
          ]
        },
        {
          "name": "stdout",
          "output_type": "stream",
          "text": [
            "\n",
            " Epoch: 89, Train accuracy: 97.6 %\n"
          ]
        },
        {
          "name": "stderr",
          "output_type": "stream",
          "text": [
            "\r 90%|█████████ | 90/100 [1:03:55<07:18, 43.81s/it]"
          ]
        },
        {
          "name": "stdout",
          "output_type": "stream",
          "text": [
            "\n",
            " Epoch: 90, Train accuracy: 97.6 %, Test accuracy: 89.6 %\n"
          ]
        },
        {
          "name": "stderr",
          "output_type": "stream",
          "text": [
            "\r 91%|█████████ | 91/100 [1:04:35<06:23, 42.66s/it]"
          ]
        },
        {
          "name": "stdout",
          "output_type": "stream",
          "text": [
            "\n",
            " Epoch: 91, Train accuracy: 97.7 %\n"
          ]
        }
      ],
      "source": [
        "train_accs, val_accs = train(model, device, cfgn, train_loader, test_loader, val_step=10, epochs=100)\n",
        "\n",
        "torch.save(model.state_dict(), 'checkpoint_last.pth')\n",
        "# download checkpoint file\n",
        "files.download('checkpoint.pth')\n",
        "files.download('checkpoint_last.pth')"
      ]
    },
    {
      "cell_type": "code",
      "execution_count": null,
      "metadata": {
        "id": "5BsGwK-atUCY",
        "vscode": {
          "languageId": "python"
        }
      },
      "outputs": [],
      "source": [
        "#train_accs, val_accs = train(model, device, cfgn, train_loader, test_loader, val_step=10, epochs=100)\n",
        "#torch.save(model.state_dict(), 'checkpoint_last.pth')\n",
        "# download checkpoint file\n",
        "#files.download('checkpoint.pth')\n",
        "#files.download('checkpoint_last.pth')"
      ]
    },
    {
      "cell_type": "code",
      "execution_count": null,
      "metadata": {
        "id": "jhe2Kv-oE9qz",
        "vscode": {
          "languageId": "python"
        }
      },
      "outputs": [],
      "source": [
        "pickle.dump([train_accs, val_accs], open('accs_200epoch_transdim128.p', 'wb'))"
      ]
    },
    {
      "cell_type": "code",
      "execution_count": null,
      "metadata": {
        "id": "EiAVtA_kCbr2",
        "vscode": {
          "languageId": "python"
        }
      },
      "outputs": [],
      "source": [
        "#pickle.dump([train_accs, val_accs], open('accs_100epoch_transdim128.p', 'wb'))"
      ]
    },
    {
      "cell_type": "code",
      "execution_count": null,
      "metadata": {
        "colab": {
          "base_uri": "https://localhost:8080/",
          "height": 17
        },
        "id": "BZIszREFvPDP",
        "outputId": "79e57424-822e-4e9a-bd4d-e3478932a4de",
        "vscode": {
          "languageId": "python"
        }
      },
      "outputs": [
        {
          "data": {
            "application/javascript": "\n    async function download(id, filename, size) {\n      if (!google.colab.kernel.accessAllowed) {\n        return;\n      }\n      const div = document.createElement('div');\n      const label = document.createElement('label');\n      label.textContent = `Downloading \"${filename}\": `;\n      div.appendChild(label);\n      const progress = document.createElement('progress');\n      progress.max = size;\n      div.appendChild(progress);\n      document.body.appendChild(div);\n\n      const buffers = [];\n      let downloaded = 0;\n\n      const channel = await google.colab.kernel.comms.open(id);\n      // Send a message to notify the kernel that we're ready.\n      channel.send({})\n\n      for await (const message of channel.messages) {\n        // Send a message to notify the kernel that we're ready.\n        channel.send({})\n        if (message.buffers) {\n          for (const buffer of message.buffers) {\n            buffers.push(buffer);\n            downloaded += buffer.byteLength;\n            progress.value = downloaded;\n          }\n        }\n      }\n      const blob = new Blob(buffers, {type: 'application/binary'});\n      const a = document.createElement('a');\n      a.href = window.URL.createObjectURL(blob);\n      a.download = filename;\n      div.appendChild(a);\n      a.click();\n      div.remove();\n    }\n  ",
            "text/plain": [
              "<IPython.core.display.Javascript object>"
            ]
          },
          "metadata": {},
          "output_type": "display_data"
        },
        {
          "data": {
            "application/javascript": "download(\"download_96aebcbd-650e-40a4-a4c6-0d07b7a471c3\", \"accs_200epoch_transdim128.p\", 2004)",
            "text/plain": [
              "<IPython.core.display.Javascript object>"
            ]
          },
          "metadata": {},
          "output_type": "display_data"
        }
      ],
      "source": [
        "files.download('accs_200epoch_transdim128.p')"
      ]
    },
    {
      "cell_type": "code",
      "execution_count": null,
      "metadata": {
        "id": "ojVhHi25Cewj",
        "vscode": {
          "languageId": "python"
        }
      },
      "outputs": [],
      "source": [
        "#files.download('accs_100epoch_transdim128.p')"
      ]
    },
    {
      "cell_type": "markdown",
      "metadata": {
        "id": "IVS6DDUYvN8E"
      },
      "source": [
        "## Optimizer experimentation"
      ]
    },
    {
      "cell_type": "markdown",
      "metadata": {
        "id": "1YHOCOmc7fhB"
      },
      "source": [
        "## SGD"
      ]
    },
    {
      "cell_type": "code",
      "execution_count": null,
      "metadata": {
        "colab": {
          "base_uri": "https://localhost:8080/",
          "height": 298
        },
        "id": "y7uKN1IRGH_0",
        "outputId": "15f348ed-9f3f-4ef0-e314-b18af8d1086b",
        "vscode": {
          "languageId": "python"
        }
      },
      "outputs": [
        {
          "data": {
            "text/plain": [
              "Text(0.5, 1.0, 'Max accuracy on the test')"
            ]
          },
          "execution_count": 23,
          "metadata": {},
          "output_type": "execute_result"
        },
        {
          "data": {
            "image/png": "[encoded data removed]",
            "text/plain": [
              "<Figure size 432x288 with 1 Axes>"
            ]
          },
          "metadata": {},
          "output_type": "display_data"
        }
      ],
      "source": [
        "plt.plot(train_accs, label=\"train\")\n",
        "plt.plot([10*i for i in range(1,21)],val_accs,label=\"val\")\n",
        "plt.legend()\n",
        "plt.title(\"Max accuracy on the test\")"
      ]
    },
    {
      "cell_type": "markdown",
      "metadata": {
        "id": "KWuFi4BS7hlv"
      },
      "source": [
        "## Adam"
      ]
    },
    {
      "cell_type": "code",
      "execution_count": null,
      "metadata": {
        "id": "KikhFRUHG5RY",
        "vscode": {
          "languageId": "python"
        }
      },
      "outputs": [],
      "source": [
        "plt.plot(train_accs, label=\"train\")\n",
        "plt.plot([10*i for i in range(1,21)],val_accs,label=\"val\")\n",
        "plt.legend()\n",
        "plt.title(\"Max accuracy on the test\")"
      ]
    },
    {
      "cell_type": "markdown",
      "metadata": {
        "id": "ZDnvvtXm45Av"
      },
      "source": [
        "## RMSProp"
      ]
    },
    {
      "cell_type": "code",
      "execution_count": null,
      "metadata": {
        "colab": {
          "base_uri": "https://localhost:8080/",
          "height": 298
        },
        "id": "dwEd_Ww143XN",
        "outputId": "16c58da4-a0ec-4ed1-9ceb-0c60c90361c5",
        "vscode": {
          "languageId": "python"
        }
      },
      "outputs": [
        {
          "data": {
            "text/plain": [
              "Text(0.5, 1.0, 'Max accuracy on the test')"
            ]
          },
          "execution_count": 26,
          "metadata": {},
          "output_type": "execute_result"
        },
        {
          "data": {
            "image/png": "[encoded data removed]",
            "text/plain": [
              "<Figure size 432x288 with 1 Axes>"
            ]
          },
          "metadata": {
            "needs_background": "light"
          },
          "output_type": "display_data"
        }
      ],
      "source": [
        "plt.plot(train_accs, label=\"train\")\n",
        "plt.plot([i for i in range(1,11)],val_accs,label=\"val\")\n",
        "plt.legend()\n",
        "plt.title(\"Max accuracy on the test\")"
      ]
    },
    {
      "cell_type": "markdown",
      "metadata": {
        "id": "e8opHu3gvQ6X"
      },
      "source": [
        "## Dimension Transformer experimentation\n",
        "\n",
        "D = 32"
      ]
    },
    {
      "cell_type": "code",
      "execution_count": null,
      "metadata": {
        "id": "6Roc-I-OvTJq",
        "vscode": {
          "languageId": "python"
        }
      },
      "outputs": [],
      "source": [
        "plt.plot(train_accs, label=\"train\")\n",
        "plt.plot([10*i for i in range(1,21)],val_accs,label=\"val\")\n",
        "plt.legend()\n",
        "plt.title(\"Max accuracy on the test\")"
      ]
    },
    {
      "cell_type": "code",
      "execution_count": null,
      "metadata": {
        "id": "45rWmBYNvP3j",
        "vscode": {
          "languageId": "python"
        }
      },
      "outputs": [],
      "source": [
        "#plt.plot(train_accs, label=\"train\")\n",
        "#plt.plot([10*i for i in range(1,21)],val_accs,label=\"val\")\n",
        "#plt.legend()\n",
        "#plt.title(\"Max accuracy on the test\")"
      ]
    }
  ],
  "metadata": {
    "accelerator": "GPU",
    "colab": {
      "provenance": []
    },
    "gpuClass": "standard",
    "kernelspec": {
      "display_name": "Python 3",
      "name": "python3"
    }
  },
  "nbformat": 4,
  "nbformat_minor": 0
}
